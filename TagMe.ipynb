{
 "cells": [
  {
   "cell_type": "markdown",
   "metadata": {},
   "source": [
    "## Import packages"
   ]
  },
  {
   "cell_type": "code",
   "execution_count": 31,
   "metadata": {},
   "outputs": [],
   "source": [
    "import csv\n",
    "import pandas as pd\n",
    "import codecs\n",
    "import json\n",
    "from urllib.parse import urlencode\n",
    "from urllib.request import urlopen\n",
    "import re, string\n",
    "import time\n",
    "import requests\n",
    "import os\n",
    "\n",
    "import tagme"
   ]
  },
  {
   "cell_type": "code",
   "execution_count": null,
   "metadata": {},
   "outputs": [],
   "source": []
  },
  {
   "cell_type": "markdown",
   "metadata": {},
   "source": [
    "## Set your working directory in os.chdir()\n",
    "## Type in the name of the input file"
    "## Type your TagMe API key"
   ]
  },
  {
   "cell_type": "code",
   "execution_count": 64,
   "metadata": {},
   "outputs": [],
   "source": [
    "os.chdir(\"/Users/ResGap\")\n",
    "INPUT = \"scopus\"\n",
    "API_Key = \"\"\n",
    
    "\n",
    "EXTENSION = \".csv\"\n",
    "OUTPUT = INPUT+\"-results\"+EXTENSION\n",
    "list_single = []\n",
    "list_annotations = []"
   ]
  },
  {
   "cell_type": "markdown",
   "metadata": {},
   "source": [
    "## Load the data into the program"
   ]
  },
  {
   "cell_type": "code",
   "execution_count": 33,
   "metadata": {},
   "outputs": [],
   "source": [
    "df = pd.read_csv(INPUT, encoding='utf-8', index_col=False)\n",
    "text = df['Title'] + \" \" + df['Abstract']"
   ]
  },
  {
   "cell_type": "markdown",
   "metadata": {},
   "source": [
    "## Get annotations as a list"
   ]
  },
  {
   "cell_type": "code",
   "execution_count": 35,
   "metadata": {},
   "outputs": [],
   "source": [
    "for i in text:\n",
    "    attempt = 0\n",
    "    int_count = 0\n",
    "    post_data = {'gcube-token': 'ec06659a-ba76-438d-991a-4647e6d09fd6-843339462', 'lang': 'en', 'epsilon': '0.427', 'long_text': '10', 'text': i}\n",
    "    \n",
    "    while attempt < 4:\n",
    "        try:\n",
    "            response = requests.post(url='https://tagme.d4science.org/tagme/tag', data=post_data)\n",
    "\n",
    "            quote = json.loads(response.text)\n",
    "\n",
    "            int_count = ((len(quote['annotations'])))\n",
    "            \n",
    "            if int_count == 0:\n",
    "                attempt = 4\n",
    "                break;\n",
    "            for x in range(int_count):\n",
    "                \n",
    "                if float(quote['annotations'][x]['rho']) >= 0.1613:\n",
    "                    \n",
    "                        if 'title' in quote['annotations'][x]:\n",
    "                            strTemp = (str(quote['annotations'][x]['title']))\n",
    "                            strTemp = strTemp.replace(',', '-')\n",
    "                            strTemp = strTemp.replace(' ', '_')\n",
    "                            list_single.append (strTemp)\n",
    "            \n",
    "            list_annotations.append(list_single)\n",
    "            \n",
    "            list_single = []\n",
    "            \n",
    "            attempt = 0\n",
    "            break;\n",
    "        except Exception:\n",
    "            if attempt == 3:\n",
    "                list_annotations.append (\"attempt failed\")\n",
    "            print (attempt)\n",
    "            attempt +=1\n",
    "            time.sleep(attempt*1.5)\n",
    "            pass"
   ]
  },
  {
   "cell_type": "markdown",
   "metadata": {},
   "source": [
    "## Add annotations to dataframe"
   ]
  },
  {
   "cell_type": "code",
   "execution_count": 62,
   "metadata": {},
   "outputs": [],
   "source": [
    "df['Annotations'] = [' '.join(map(str, s1)) for s1 in list_annotations]\n",
    "#df = df.replace('&amp;','&', regex=True)\n",
    "#Replace or not?"
   ]
  },
  {
   "cell_type": "markdown",
   "metadata": {},
   "source": [
    "##  Download Scopus file with added annotation column"
   ]
  },
  {
   "cell_type": "code",
   "execution_count": 54,
   "metadata": {},
   "outputs": [],
   "source": [
    "df.to_csv(OUTPUT)"
   ]
  },
  {
   "cell_type": "markdown",
   "metadata": {},
   "source": [
    "## Download annotations for each article as txt file"
   ]
  },
  {
   "cell_type": "code",
   "execution_count": 72,
   "metadata": {},
   "outputs": [],
   "source": [
    "for idx,row in text2.iterrows():\n",
    "    #filename = \"annotations-\"+str(row[\"title\"])+\".txt\"\n",
    "    filename = \"annotations-\"+str(idx)+\".txt\"\n",
    "    thefile = codecs.open(filename, \"w\", \"utf-8-sig\")\n",
    "    thefile.write(row[\"annotations\"])"
   ]
  }
 ],
 "metadata": {
  "kernelspec": {
   "display_name": "Python 3",
   "language": "python",
   "name": "python3"
  },
  "language_info": {
   "codemirror_mode": {
    "name": "ipython",
    "version": 3
   },
   "file_extension": ".py",
   "mimetype": "text/x-python",
   "name": "python",
   "nbconvert_exporter": "python",
   "pygments_lexer": "ipython3",
   "version": "3.7.6"
  }
 },
 "nbformat": 4,
 "nbformat_minor": 2
}
